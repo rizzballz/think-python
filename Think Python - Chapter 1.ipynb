{
 "cells": [
  {
   "cell_type": "markdown",
   "metadata": {},
   "source": [
    "# Think Python \n",
    "Solutions by Ryan McMillan 2019"
   ]
  },
  {
   "cell_type": "markdown",
   "metadata": {},
   "source": [
    "## Chapter 1 - The Way of the Program"
   ]
  },
  {
   "cell_type": "markdown",
   "metadata": {},
   "source": [
    "### Exercise 1-1"
   ]
  },
  {
   "cell_type": "markdown",
   "metadata": {},
   "source": [
    "#### 1. In a print statement, what happpens if you leave out one of the parenthesis, or both?\n",
    "\n",
    "\n",
    "A. If the left parenthesis is omitted with no space, a syntax error is thrown. With the space also a Syntax error but the hint \"Missing parenthesis in call to 'print'. Did you mean print('Hello'))?\"\n",
    "if the right parenthesis is omitted, again a syntax error is thrown, with the hint 'unexpected EOF while parsing'."
   ]
  },
  {
   "cell_type": "code",
   "execution_count": 8,
   "metadata": {},
   "outputs": [
    {
     "ename": "SyntaxError",
     "evalue": "Missing parentheses in call to 'print'. Did you mean print('Hello, World!'))? (<ipython-input-8-888f0b8ca7df>, line 1)",
     "output_type": "error",
     "traceback": [
      "\u001b[0;36m  File \u001b[0;32m\"<ipython-input-8-888f0b8ca7df>\"\u001b[0;36m, line \u001b[0;32m1\u001b[0m\n\u001b[0;31m    print 'Hello, World!')\u001b[0m\n\u001b[0m                        ^\u001b[0m\n\u001b[0;31mSyntaxError\u001b[0m\u001b[0;31m:\u001b[0m Missing parentheses in call to 'print'. Did you mean print('Hello, World!'))?\n"
     ]
    }
   ],
   "source": [
    "print 'Hello, World!')"
   ]
  },
  {
   "cell_type": "markdown",
   "metadata": {},
   "source": [
    "#### 2. If you are trying to print a String, what happens if you leave out one of the quotation marks, or both?\n",
    "\n",
    "A. If the left, or both quotation marks are left out, a SyntaxError is thrown 'invalid syntax'\n",
    "If the right quotation mark is left out, a SyntaxError is thrown 'EOL while scanning string literal'"
   ]
  },
  {
   "cell_type": "code",
   "execution_count": 11,
   "metadata": {},
   "outputs": [
    {
     "ename": "SyntaxError",
     "evalue": "invalid syntax (<ipython-input-11-735d144ed993>, line 1)",
     "output_type": "error",
     "traceback": [
      "\u001b[0;36m  File \u001b[0;32m\"<ipython-input-11-735d144ed993>\"\u001b[0;36m, line \u001b[0;32m1\u001b[0m\n\u001b[0;31m    print(Hello, World!')\u001b[0m\n\u001b[0m                      ^\u001b[0m\n\u001b[0;31mSyntaxError\u001b[0m\u001b[0;31m:\u001b[0m invalid syntax\n"
     ]
    }
   ],
   "source": [
    "print(Hello, World!')"
   ]
  },
  {
   "cell_type": "markdown",
   "metadata": {},
   "source": [
    "#### 3. You can use the minus sign to make a negative number like -2. What happens if you put a + sign in front of a number? what about 2 ++ 2?\n",
    "\n",
    "A. The integer is recognised as positive and can be operated on normally."
   ]
  },
  {
   "cell_type": "code",
   "execution_count": 14,
   "metadata": {},
   "outputs": [
    {
     "data": {
      "text/plain": [
       "4"
      ]
     },
     "execution_count": 14,
     "metadata": {},
     "output_type": "execute_result"
    }
   ],
   "source": [
    "2 + +2"
   ]
  },
  {
   "cell_type": "code",
   "execution_count": 15,
   "metadata": {},
   "outputs": [
    {
     "data": {
      "text/plain": [
       "0"
      ]
     },
     "execution_count": 15,
     "metadata": {},
     "output_type": "execute_result"
    }
   ],
   "source": [
    "2 + -2"
   ]
  },
  {
   "cell_type": "markdown",
   "metadata": {},
   "source": [
    "#### 4. In math notation, leading zeroes are okay, as in 02, what happens if you try this in Python?\n",
    "\n",
    "A. A SyntaxError is thrown 'invalid token' zero can not be used as a first character"
   ]
  },
  {
   "cell_type": "code",
   "execution_count": 65,
   "metadata": {},
   "outputs": [
    {
     "ename": "SyntaxError",
     "evalue": "invalid token (<ipython-input-65-c6848898fb5a>, line 1)",
     "output_type": "error",
     "traceback": [
      "\u001b[0;36m  File \u001b[0;32m\"<ipython-input-65-c6848898fb5a>\"\u001b[0;36m, line \u001b[0;32m1\u001b[0m\n\u001b[0;31m    3 + 02\u001b[0m\n\u001b[0m         ^\u001b[0m\n\u001b[0;31mSyntaxError\u001b[0m\u001b[0;31m:\u001b[0m invalid token\n"
     ]
    }
   ],
   "source": [
    "3 + 02"
   ]
  },
  {
   "cell_type": "markdown",
   "metadata": {},
   "source": [
    "5. What happens if you have two values with no operator in between them?\n",
    "\n",
    "A. A SyntaxError is thrown 'invalid syntax', it is not 'grammatically correct' in python to have two values with no operator in between."
   ]
  },
  {
   "cell_type": "code",
   "execution_count": 19,
   "metadata": {},
   "outputs": [
    {
     "ename": "SyntaxError",
     "evalue": "invalid syntax (<ipython-input-19-e862afcaced2>, line 1)",
     "output_type": "error",
     "traceback": [
      "\u001b[0;36m  File \u001b[0;32m\"<ipython-input-19-e862afcaced2>\"\u001b[0;36m, line \u001b[0;32m1\u001b[0m\n\u001b[0;31m    3 9\u001b[0m\n\u001b[0m      ^\u001b[0m\n\u001b[0;31mSyntaxError\u001b[0m\u001b[0;31m:\u001b[0m invalid syntax\n"
     ]
    }
   ],
   "source": [
    "3 9"
   ]
  },
  {
   "cell_type": "markdown",
   "metadata": {},
   "source": [
    "### Exercise 1-2"
   ]
  },
  {
   "cell_type": "markdown",
   "metadata": {},
   "source": [
    "Start the Python interpreter and use it as a calculator:\n",
    "\n",
    "#### 1. How many Seconds are there in 42 minutes 42 seconds\n",
    "#### 2. How many miles are there in 10 kilometers? Hint: there are 1.61 kilometers in a mile\n",
    "#### 3. If you run a 10 kilometer race in 42 minutes 42 seconds, what is your average pace(time per mile in minutes and seconds)? What is your average speed in miles per hour"
   ]
  },
  {
   "cell_type": "code",
   "execution_count": 30,
   "metadata": {},
   "outputs": [
    {
     "name": "stdout",
     "output_type": "stream",
     "text": [
      "2520.7 Seconds in 42 minutes & 42 seconds\n"
     ]
    }
   ],
   "source": [
    "# 1\n",
    "print((60 * 42) + (42/60), 'Seconds in 42 minutes & 42 seconds')"
   ]
  },
  {
   "cell_type": "code",
   "execution_count": 24,
   "metadata": {},
   "outputs": [
    {
     "name": "stdout",
     "output_type": "stream",
     "text": [
      "6.211 Kilometers in 10 miles\n"
     ]
    }
   ],
   "source": [
    "#2\n",
    "print(round((10 / 1.61),3), 'Kilometers in 10 miles')"
   ]
  },
  {
   "cell_type": "code",
   "execution_count": 66,
   "metadata": {},
   "outputs": [
    {
     "name": "stdout",
     "output_type": "stream",
     "text": [
      "Distance in Miles =  6.211180124223602\n",
      "Speed in km/s =  0.003967151981592415\n",
      "Speed in km/m =  0.23802911889554493\n",
      "Speed in km/h =  14.281747133732695\n",
      "Speed in mpm =   0.14784417322704654\n",
      "Speed in mph =   8.87065039362279\n",
      "Pace =   6 Minutes  45.6  Seconds per mile\n"
     ]
    }
   ],
   "source": [
    "#3 Speed = (Distance(10[km]) / Time(s))\n",
    "print('Distance in Miles = ', 10/1.61)\n",
    "print('Speed in km/s = ', 10/2520.7)\n",
    "print('Speed in km/m = ', 10/2520.7*60)\n",
    "print('Speed in km/h = ', 10/2520.7*60*60)\n",
    "print('Speed in mpm =  ', 10/2520.7*60/1.61)\n",
    "print('Speed in mph =  ', 10/2520.7*60*60/1.61)\n",
    "\n",
    "#Time = Distance(10[km]/1.61) / Speed[mpm]\n",
    "print('Pace =  ', int(1/(10/2520.7*60/1.61)),'Minutes ', \n",
    "      round(float('0.' + str(round(1/(10/2520.7*60/1.61),3))[2:]),2) * 60, \n",
    "      ' Seconds per mile')"
   ]
  },
  {
   "cell_type": "markdown",
   "metadata": {},
   "source": [
    "### Glossary Terms\n",
    "Explained in my own words and then expressed as the formal definition provided by the book."
   ]
  },
  {
   "cell_type": "markdown",
   "metadata": {},
   "source": [
    "#### Problem Solving\n",
    "The process of finding solutions to challenges.<br>\n",
    "The process of formulating a problem, finding a solution and expressing it."
   ]
  },
  {
   "cell_type": "markdown",
   "metadata": {},
   "source": [
    "#### High-Level Language\n",
    "A programming language that is intended to be readable by a human.<br>\n",
    "A programming language like python that is designed to be easy for humans to read and write"
   ]
  },
  {
   "cell_type": "markdown",
   "metadata": {},
   "source": [
    "#### Low-Level Language\n",
    "A programming language designed for computers to understand, not easily readable by humans.<br>\n",
    "A programming language that is designed to be easy for a computer to run; also called \"Machine Language\" or \"Assembly Language\""
   ]
  },
  {
   "cell_type": "markdown",
   "metadata": {},
   "source": [
    "#### Portability\n",
    "Being able to be run on more than one kind of computer.<br>\n",
    "A property of a program that can run on more than one kind of computer"
   ]
  },
  {
   "cell_type": "markdown",
   "metadata": {},
   "source": [
    "#### Interpreter\n",
    "A program that can read (interpret) code provided to it.<br>\n",
    "A program that reads another program and executes it."
   ]
  },
  {
   "cell_type": "markdown",
   "metadata": {},
   "source": [
    "#### Prompt\n",
    "An output of the computer to get an input from the user.<br>\n",
    "Characters displayed by the interpreter to indicate that it is ready to take input from the user."
   ]
  },
  {
   "cell_type": "markdown",
   "metadata": {},
   "source": [
    "#### Program\n",
    "A compiled set of instructions (code) that is able to be run by a computer.<br>\n",
    "A set of instructions that specifies a computation."
   ]
  },
  {
   "cell_type": "markdown",
   "metadata": {},
   "source": [
    "#### Print Statement\n",
    "An instruction to the computer to output given characters to the screen.<br>\n",
    "An instruction that causes the Python interpreter to display a value on the screen."
   ]
  },
  {
   "cell_type": "markdown",
   "metadata": {},
   "source": [
    "#### Operator\n",
    "Is a character provided to the interpreter to operate on a given value e.g. 2 * 3, take to and do a multiplication operation on it it by 3.<br>\n",
    "A special symbol that represents a single computation like addition, multiplication or strin concatenation."
   ]
  },
  {
   "cell_type": "markdown",
   "metadata": {},
   "source": [
    "#### Type\n",
    "Specifies what kind of operand you are dealing with.<br>\n",
    "A category of values. The types we have seen so far are integers (type int), floating-point numbers (type float) and string (type str)"
   ]
  },
  {
   "cell_type": "markdown",
   "metadata": {},
   "source": [
    "#### Integer\n",
    "A whole number, positive or negative.<br>\n",
    "A type that represents whole numbers."
   ]
  },
  {
   "cell_type": "markdown",
   "metadata": {},
   "source": [
    "#### Floating-Point\n",
    "A type that represents any real number.<br>\n",
    "A type that represents numbers with fractional parts."
   ]
  },
  {
   "cell_type": "markdown",
   "metadata": {},
   "source": [
    "#### String\n",
    "A type that represents an array of characters.<br>\n",
    "A type that represents a sequence of characters."
   ]
  },
  {
   "cell_type": "markdown",
   "metadata": {},
   "source": [
    "#### Natural Language\n",
    "The languages spoken by people, not designed by people but evolved over time.<br>\n",
    "Any one of the languages that people speak that evolved naturally."
   ]
  },
  {
   "cell_type": "markdown",
   "metadata": {},
   "source": [
    "#### Formal Language\n",
    "A language designed by humans for a specific purpose.<br>\n",
    "Any one of the languages that people have designed for specific purposes, such as representing mathematical ideas or computer programs; all programming languages are formal languages."
   ]
  },
  {
   "cell_type": "markdown",
   "metadata": {},
   "source": [
    "#### Token\n",
    "A valid character of a given language.<br>\n",
    "One of the basic elements of the syntactic structure of a program, analagous to a word in a natural language."
   ]
  },
  {
   "cell_type": "markdown",
   "metadata": {},
   "source": [
    "#### Syntax\n",
    "The 'Grammatical' rules that govern a programming language.\n",
    "The rules that govern the structure of a program."
   ]
  },
  {
   "cell_type": "markdown",
   "metadata": {},
   "source": [
    "#### Parse\n",
    "To read over and examine; text, code.<br>\n",
    "To examine a program and analyze the syntactic structure."
   ]
  },
  {
   "cell_type": "markdown",
   "metadata": {},
   "source": [
    "#### Bug\n",
    "An error in a program.<br>\n",
    "An error in a program."
   ]
  },
  {
   "cell_type": "markdown",
   "metadata": {},
   "source": [
    "#### Debugging\n",
    "The act of searching for and removing bugs from a program or code.<br>\n",
    "The process of finding and correcting bugs."
   ]
  }
 ],
 "metadata": {
  "kernelspec": {
   "display_name": "Python 3",
   "language": "python",
   "name": "python3"
  },
  "language_info": {
   "codemirror_mode": {
    "name": "ipython",
    "version": 3
   },
   "file_extension": ".py",
   "mimetype": "text/x-python",
   "name": "python",
   "nbconvert_exporter": "python",
   "pygments_lexer": "ipython3",
   "version": "3.7.2"
  }
 },
 "nbformat": 4,
 "nbformat_minor": 2
}
