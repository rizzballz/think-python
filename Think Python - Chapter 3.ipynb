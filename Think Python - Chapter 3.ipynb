{
 "cells": [
  {
   "cell_type": "markdown",
   "metadata": {},
   "source": [
    "# Think Python\n",
    "Solutions by Ryan McMilan 2019\n",
    "## Chapter 3 - Functions"
   ]
  },
  {
   "cell_type": "markdown",
   "metadata": {},
   "source": [
    "### Exercise 3-1\n",
    "#### Write a function named right_justify that takes a string named s as a parameter and prints the string  with enough leading spaces so that the last letter of the string is in column 70 of the display."
   ]
  },
  {
   "cell_type": "code",
   "execution_count": 9,
   "metadata": {},
   "outputs": [],
   "source": [
    "def right_justify(s):\n",
    "    print((70-len(s))*\" \" + s)"
   ]
  },
  {
   "cell_type": "code",
   "execution_count": 10,
   "metadata": {},
   "outputs": [
    {
     "name": "stdout",
     "output_type": "stream",
     "text": [
      "                                                                  test\n"
     ]
    }
   ],
   "source": [
    "right_justify('test')"
   ]
  },
  {
   "cell_type": "markdown",
   "metadata": {},
   "source": [
    "### Exercise 3-2\n",
    "#### A function object is a value you can assign to a variable or pass as an argument. For example, do_twice is a function object as an argument and calls it twice:"
   ]
  },
  {
   "cell_type": "code",
   "execution_count": 11,
   "metadata": {},
   "outputs": [],
   "source": [
    "def do_twice(f):\n",
    "    f()\n",
    "    f()"
   ]
  },
  {
   "cell_type": "code",
   "execution_count": 12,
   "metadata": {},
   "outputs": [
    {
     "name": "stdout",
     "output_type": "stream",
     "text": [
      "spam\n",
      "spam\n"
     ]
    }
   ],
   "source": [
    "# Here's an example that uses do_twice to call a function named print_spam twice:\n",
    "def print_spam():\n",
    "    print('spam')\n",
    "    \n",
    "do_twice(print_spam)"
   ]
  },
  {
   "cell_type": "code",
   "execution_count": 19,
   "metadata": {},
   "outputs": [
    {
     "name": "stdout",
     "output_type": "stream",
     "text": [
      "spam\n",
      "spam\n",
      "spam\n",
      "spam\n",
      "spam\n",
      "spam\n",
      "spam\n",
      "spam\n",
      "spam\n",
      "spam\n",
      "spam\n",
      "spam\n"
     ]
    }
   ],
   "source": [
    "# Modify do_twice so that it takes two arguments, \n",
    "# a function object and a value, and calls the function twice, \n",
    "#passing the value as an argument\n",
    "\n",
    "def do_twice2(f,g):\n",
    "    f(g)\n",
    "    f(g)\n",
    "\n",
    "#Copy the definition of print_twice from earlier in this chapter \n",
    "#to your script:\n",
    "\n",
    "def print_twice(bruce):\n",
    "    print(bruce)\n",
    "    print(bruce)\n",
    "    \n",
    "#Using the modified version of do_twice to call print_twice twice, \n",
    "#passing 'spam' as an argument.\n",
    "\n",
    "    \n",
    "do_twice2(print_twice, 'spam')\n",
    "\n",
    "#Define a new function called do_four that takes a function object \n",
    "#and a value and calls the function four times, passing the value as the parameter.\n",
    "# there should only be two statements in the body of this function, not four\n",
    "\n",
    "def do_four(f,g):\n",
    "    f(print_twice,g)\n",
    "    f(print_twice,g)\n",
    "    \n",
    "do_four(do_twice2, 'spam')\n"
   ]
  },
  {
   "cell_type": "markdown",
   "metadata": {},
   "source": [
    "### Glossary Terms"
   ]
  }
 ],
 "metadata": {
  "kernelspec": {
   "display_name": "Python 3",
   "language": "python",
   "name": "python3"
  },
  "language_info": {
   "codemirror_mode": {
    "name": "ipython",
    "version": 3
   },
   "file_extension": ".py",
   "mimetype": "text/x-python",
   "name": "python",
   "nbconvert_exporter": "python",
   "pygments_lexer": "ipython3",
   "version": "3.7.2"
  }
 },
 "nbformat": 4,
 "nbformat_minor": 2
}
